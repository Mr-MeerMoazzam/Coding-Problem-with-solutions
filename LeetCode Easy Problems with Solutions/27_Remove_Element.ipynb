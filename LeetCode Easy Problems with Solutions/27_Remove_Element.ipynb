{
  "nbformat": 4,
  "nbformat_minor": 0,
  "metadata": {
    "colab": {
      "provenance": []
    },
    "kernelspec": {
      "name": "python3",
      "display_name": "Python 3"
    },
    "language_info": {
      "name": "python"
    }
  },
  "cells": [
    {
      "cell_type": "markdown",
      "source": [
        "#Problem Description\n",
        "Given an integer array nums and an integer val, remove all occurrences of val in nums in-place. The relative order of the elements may be changed.\n",
        "\n",
        "Since it is impossible to change the length of the array in some languages, you must instead have the result be placed in the first part of the array nums. More formally, if there are k elements after removing the duplicates, then the first k elements of nums should hold the final result. It does not matter what you leave beyond the first k elements.\n",
        "\n",
        "Return k after placing the final result in the first k slots of nums.\n",
        "\n",
        "Do not allocate extra space for another array. You must do this by modifying the input array in-place with O(1) extra memory.\n",
        "\n",
        "Example 1:<br>\n",
        "\n",
        "Input: nums = [3,2,2,3], val = 3<br>\n",
        "Output: 2, nums = [2,2,_,_]<br>\n",
        "Explanation: Your function should return k = 2, with the first two elements of nums being 2.<br>\n",
        "It does not matter what you leave beyond the returned k (hence they are underscores).<br>\n",
        "Example 2:<br>\n",
        "\n",
        "Input: nums = [0,1,2,2,3,0,4,2], val = 2<br>\n",
        "Output: 5, nums = [0,1,4,0,3,_,_,_]<br>\n",
        "Explanation: Your function should return k = 5, with the first five elements of nums containing 0, 0, 1, 3, and 4.<br>\n",
        "Note that the five elements can be returned in any order.<br>\n",
        "It does not matter what you leave beyond the returned k (hence they are underscores).<br>\n",
        " \n",
        "\n",
        "Constraints:<br>\n",
        "\n",
        "0 <= nums.length <= 100<br>\n",
        "0 <= nums[i] <= 50<br>\n",
        "0 <= val <= 100<br>"
      ],
      "metadata": {
        "id": "axJ5VAnXc1-R"
      }
    },
    {
      "cell_type": "code",
      "execution_count": 3,
      "metadata": {
        "id": "IxM66J4zUDWI"
      },
      "outputs": [],
      "source": [
        "class Solution(object):\n",
        "    def removeElement(self, nums, val):\n",
        "        \"\"\"\n",
        "        :type nums: List[int]\n",
        "        :type val: int\n",
        "        :rtype: int\n",
        "        \"\"\"\n",
        "        count_val=nums.count(val)\n",
        "        while count_val:\n",
        "            nums.remove(val)\n",
        "            count_val-=1\n",
        "        \n",
        "        return len(nums)-count_val"
      ]
    }
  ]
}