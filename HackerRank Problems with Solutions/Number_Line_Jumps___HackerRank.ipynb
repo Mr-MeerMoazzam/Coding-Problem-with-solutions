{
  "nbformat": 4,
  "nbformat_minor": 0,
  "metadata": {
    "colab": {
      "provenance": []
    },
    "kernelspec": {
      "name": "python3",
      "display_name": "Python 3"
    },
    "language_info": {
      "name": "python"
    }
  },
  "cells": [
    {
      "cell_type": "markdown",
      "source": [
        "#Problem Description\n",
        "\n",
        "\n",
        "```\n",
        "You are choreographing a circus show with various animals. For one act, you are given two kangaroos on a number line ready to jump in the positive direction (i.e, toward positive infinity).\n",
        "\n",
        "The first kangaroo starts at location x1 and moves at a rate of v1 meters per jump.\n",
        "The second kangaroo starts at location x2 and moves at a rate of v2 meters per jump.\n",
        "You have to figure out a way to get both kangaroos at the same location at the same time as part of the show. If it is possible, return YES, otherwise return NO.\n",
        "\n",
        "Function Description\n",
        "\n",
        "Complete the function kangaroo in the editor below.\n",
        "\n",
        "kangaroo has the following parameter(s):\n",
        "\n",
        "int x1, int v1: starting position and jump distance for kangaroo 1\n",
        "int x2, int v2: starting position and jump distance for kangaroo 2\n",
        "Returns\n",
        "\n",
        "string: either YES or NO\n",
        "\n",
        "Sample Input 1\n",
        "\n",
        "0 2 5 3\n",
        "Sample Output 1\n",
        "\n",
        "NO\n",
        "Explanation 1\n",
        "\n",
        "The second kangaroo has a starting location that is ahead (further to the right) of the first kangaroo's starting location (i.e., x2 > x1 ). Because the second kangaroo moves at a faster rate (meaning v2>v1) and is already ahead of the first kangaroo, the first kangaroo will never be able to catch up. Thus, we print NO.\n",
        "```\n",
        "\n"
      ],
      "metadata": {
        "id": "wpJMURa_XFIR"
      }
    },
    {
      "cell_type": "code",
      "execution_count": null,
      "metadata": {
        "id": "q-cmzDyJRIWM"
      },
      "outputs": [],
      "source": [
        "#!/bin/python3\n",
        "\n",
        "import math\n",
        "import os\n",
        "import random\n",
        "import re\n",
        "import sys\n",
        "\n",
        "#\n",
        "# Complete the 'kangaroo' function below.\n",
        "#\n",
        "# The function is expected to return a STRING.\n",
        "# The function accepts following parameters:\n",
        "#  1. INTEGER x1\n",
        "#  2. INTEGER v1\n",
        "#  3. INTEGER x2\n",
        "#  4. INTEGER v2\n",
        "#\n",
        "\n",
        "def kangaroo(x1, v1, x2, v2):\n",
        "    # Write your code here\n",
        "    if x1 < x2 and v1 < v2:\n",
        "        return 'NO'\n",
        "    else:\n",
        "        if v1!=v2 and (x2-x1)%(v2-v1)==0:\n",
        "            return 'YES'\n",
        "        else:\n",
        "            return 'NO'\n",
        "if __name__ == '__main__':\n",
        "    fptr = open(os.environ['OUTPUT_PATH'], 'w')\n",
        "\n",
        "    first_multiple_input = input().rstrip().split()\n",
        "\n",
        "    x1 = int(first_multiple_input[0])\n",
        "\n",
        "    v1 = int(first_multiple_input[1])\n",
        "\n",
        "    x2 = int(first_multiple_input[2])\n",
        "\n",
        "    v2 = int(first_multiple_input[3])\n",
        "\n",
        "    result = kangaroo(x1, v1, x2, v2)\n",
        "\n",
        "    fptr.write(result + '\\n')\n",
        "\n",
        "    fptr.close()\n"
      ]
    }
  ]
}