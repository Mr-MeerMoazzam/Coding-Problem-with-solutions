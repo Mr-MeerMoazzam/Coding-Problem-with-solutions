{
  "nbformat": 4,
  "nbformat_minor": 0,
  "metadata": {
    "colab": {
      "provenance": []
    },
    "kernelspec": {
      "name": "python3",
      "display_name": "Python 3"
    },
    "language_info": {
      "name": "python"
    }
  },
  "cells": [
    {
      "cell_type": "markdown",
      "source": [
        "#Problem Description\n",
        "A pangram is a string that contains every letter of the alphabet. Given a sentence determine whether it is a pangram in the English alphabet. Ignore case. Return either pangram or not pangram as appropriate.\n",
        "\n",
        "<b>Example</b>\n",
        "\n",
        "The string contains all letters in the English alphabet, so return pangram.\n",
        "\n",
        "<b>Function Description</b>\n",
        "\n",
        "Complete the function pangrams in the editor below. It should return the string pangram if the input string is a pangram. Otherwise, it should return not pangram.\n",
        "\n",
        "pangrams has the following parameter(s):\n",
        "\n",
        "string s: a string to test\n",
        "\n",
        "<b>Returns<b>\n",
        "\n",
        "string: either pangram or not pangram\n"
      ],
      "metadata": {
        "id": "PUwri7QB3a-s"
      }
    },
    {
      "cell_type": "code",
      "execution_count": null,
      "metadata": {
        "id": "jQELqYL03Ke_"
      },
      "outputs": [],
      "source": [
        "#!/bin/python3\n",
        "\n",
        "import math\n",
        "import os\n",
        "import random\n",
        "import re\n",
        "import sys\n",
        "\n",
        "#\n",
        "# Complete the 'pangrams' function below.\n",
        "#\n",
        "# The function is expected to return a STRING.\n",
        "# The function accepts STRING s as parameter.\n",
        "#\n",
        "\n",
        "def pangrams(s):\n",
        "    # Write your code here\n",
        "    abc='qwertyuiopasdfghjklzxcvbnm'\n",
        "\n",
        "    return 'not pangram' if list(filter(lambda x: x not in s.lower(),abc)) else 'pangram'\n",
        "    \n",
        "if __name__ == '__main__':\n",
        "    fptr = open(os.environ['OUTPUT_PATH'], 'w')\n",
        "\n",
        "    s = input()\n",
        "\n",
        "    result = pangrams(s)\n",
        "    fptr.write(result + '\\n')\n",
        "\n",
        "    fptr.close()\n"
      ]
    }
  ]
}