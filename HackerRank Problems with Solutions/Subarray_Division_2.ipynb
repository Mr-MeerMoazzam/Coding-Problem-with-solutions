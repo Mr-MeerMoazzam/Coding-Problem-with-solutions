{
  "nbformat": 4,
  "nbformat_minor": 0,
  "metadata": {
    "colab": {
      "provenance": []
    },
    "kernelspec": {
      "name": "python3",
      "display_name": "Python 3"
    },
    "language_info": {
      "name": "python"
    }
  },
  "cells": [
    {
      "cell_type": "markdown",
      "source": [
        "#Problem Description\n",
        "\n",
        "\n",
        "\n",
        "```\n",
        "Two children, Lily and Ron, want to share a chocolate bar. Each of the squares has an integer on it.\n",
        "\n",
        "Lily decides to share a contiguous segment of the bar selected such that:\n",
        "\n",
        "The length of the segment matches Ron's birth month, and,\n",
        "The sum of the integers on the squares is equal to his birth day.\n",
        "Determine how many ways she can divide the chocolate.\n",
        "\n",
        "\n",
        "Lily wants to find segments summing to Ron's birth day,  with a length equalling his birth month, . In this case, there are two segments meeting her criteria:  and .\n",
        "\n",
        "Function Description\n",
        "\n",
        "Complete the birthday function in the editor below.\n",
        "\n",
        "birthday has the following parameter(s):\n",
        "\n",
        "int s[n]: the numbers on each of the squares of chocolate\n",
        "int d: Ron's birth day\n",
        "int m: Ron's birth month\n",
        "Returns\n",
        "\n",
        "int: the number of ways the bar can be divided\n",
        "```\n",
        "\n"
      ],
      "metadata": {
        "id": "I10fhQ4380uF"
      }
    },
    {
      "cell_type": "code",
      "execution_count": null,
      "metadata": {
        "id": "xqK_PnCf8sHU"
      },
      "outputs": [],
      "source": [
        "#!/bin/python3\n",
        "\n",
        "import math\n",
        "import os\n",
        "import random\n",
        "import re\n",
        "import sys\n",
        "\n",
        "#\n",
        "# Complete the 'birthday' function below.\n",
        "#\n",
        "# The function is expected to return an INTEGER.\n",
        "# The function accepts following parameters:\n",
        "#  1. INTEGER_ARRAY s\n",
        "#  2. INTEGER d\n",
        "#  3. INTEGER m\n",
        "#\n",
        "\n",
        "def birthday(s, d, m):\n",
        "    # Write your code here\n",
        "    count=0\n",
        "    for i in range(len(s)-m+1):\n",
        "        if (sum(s[i:m+i]))==d:\n",
        "            count+=1\n",
        "    return count\n",
        "\n",
        "if __name__ == '__main__':\n",
        "    fptr = open(os.environ['OUTPUT_PATH'], 'w')\n",
        "\n",
        "    n = int(input().strip())\n",
        "\n",
        "    s = list(map(int, input().rstrip().split()))\n",
        "\n",
        "    first_multiple_input = input().rstrip().split()\n",
        "\n",
        "    d = int(first_multiple_input[0])\n",
        "\n",
        "    m = int(first_multiple_input[1])\n",
        "\n",
        "    result = birthday(s, d, m)\n",
        "\n",
        "    fptr.write(str(result) + '\\n')\n",
        "\n",
        "    fptr.close()\n"
      ]
    }
  ]
}