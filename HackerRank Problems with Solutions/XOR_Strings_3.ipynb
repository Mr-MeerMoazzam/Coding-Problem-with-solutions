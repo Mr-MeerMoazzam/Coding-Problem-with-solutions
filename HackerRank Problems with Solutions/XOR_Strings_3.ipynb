{
  "nbformat": 4,
  "nbformat_minor": 0,
  "metadata": {
    "colab": {
      "provenance": []
    },
    "kernelspec": {
      "name": "python3",
      "display_name": "Python 3"
    },
    "language_info": {
      "name": "python"
    }
  },
  "cells": [
    {
      "cell_type": "markdown",
      "source": [
        "\n",
        "\n",
        "```\n",
        "In this challenge, the task is to debug the existing code to successfully execute all provided test files.\n",
        "\n",
        "Given two strings consisting of digits 0 and 1 only, find the XOR of the two strings.\n",
        "\n",
        "Debug the given function strings_xor to find the XOR of the two given strings appropriately.\n",
        "\n",
        "Note: You can modify at most three lines in the given code and you cannot add or remove lines to the code.\n",
        "\n",
        "To restore the original code, click on the icon to the right of the language selector.\n",
        "\n",
        "Sample Input\n",
        "\n",
        "10101\n",
        "00101\n",
        "\n",
        "Sample Output\n",
        "\n",
        "10000\n",
        "```\n",
        "\n"
      ],
      "metadata": {
        "id": "ePedE3TumxJz"
      }
    },
    {
      "cell_type": "code",
      "execution_count": null,
      "metadata": {
        "id": "6oowEb5Pmc0r"
      },
      "outputs": [],
      "source": [
        "def strings_xor(s, t):\n",
        "    res = \"\"\n",
        "    for i in range(len(s)):\n",
        "        if s[i] ==t[i]:\n",
        "            res =res + '0'\n",
        "        else:\n",
        "            res =res + '1'\n",
        "\n",
        "    return res\n",
        "\n",
        "s = input()\n",
        "t = input()\n",
        "print(strings_xor(s, t))\n"
      ]
    }
  ]
}