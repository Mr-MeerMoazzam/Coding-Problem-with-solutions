{
  "nbformat": 4,
  "nbformat_minor": 0,
  "metadata": {
    "colab": {
      "provenance": []
    },
    "kernelspec": {
      "name": "python3",
      "display_name": "Python 3"
    },
    "language_info": {
      "name": "python"
    }
  },
  "cells": [
    {
      "cell_type": "markdown",
      "source": [
        "#Pqroblem Description\n",
        "\n",
        "\n",
        "```\n",
        "There will be two arrays of integers. Determine all integers that satisfy the following two conditions:\n",
        "\n",
        "The elements of the first array are all factors of the integer being considered\n",
        "The integer being considered is a factor of all elements of the second array\n",
        "These numbers are referred to as being between the two arrays. Determine how many such numbers exist.\n",
        "\n",
        "Function Description\n",
        "\n",
        "Complete the getTotalX function in the editor below. It should return the number of integers that are betwen the sets.\n",
        "\n",
        "getTotalX has the following parameter(s):\n",
        "\n",
        "int a[n]: an array of integers\n",
        "int b[m]: an array of integers\n",
        "Returns\n",
        "\n",
        "int: the number of integers that are between the sets\n",
        "\n",
        "```\n",
        "\n"
      ],
      "metadata": {
        "id": "2ZZX1fZ_dmTk"
      }
    },
    {
      "cell_type": "code",
      "execution_count": 2,
      "metadata": {
        "colab": {
          "base_uri": "https://localhost:8080/"
        },
        "id": "9rjGOjoGYiBR",
        "outputId": "435e3e2a-e5f3-473b-8a98-e00db9e8e29e"
      },
      "outputs": [
        {
          "output_type": "execute_result",
          "data": {
            "text/plain": [
              "90"
            ]
          },
          "metadata": {},
          "execution_count": 2
        }
      ],
      "source": [
        "#!/bin/python3\n",
        "\n",
        "import math\n",
        "import os\n",
        "import random\n",
        "import re\n",
        "import sys\n",
        "from functools import reduce\n",
        "#\n",
        "# Complete the 'getTotalX' function below.\n",
        "#\n",
        "# The function is expected to return an INTEGER.\n",
        "# The function accepts following parameters:\n",
        "#  1. INTEGER_ARRAY a\n",
        "#  2. INTEGER_ARRAY b\n",
        "#\n",
        "def lcm(a, b):\n",
        "    return a * b // gcd(a, b)\n",
        "def gcd(a, b):\n",
        "    while a % b != 0:\n",
        "        a, b = b, (a % b)\n",
        "    return b\n",
        "\n",
        "def getTotalX(a, b):\n",
        "    # Write your code here\n",
        "    min_gcd = reduce(gcd, b)\n",
        "    max_lcm = reduce(lcm, a)\n",
        "    count = sum([1 for x in range(max_lcm, min_gcd+1, max_lcm) if min_gcd % x == 0])\n",
        " \n",
        "    return count\n",
        "if __name__ == '__main__':\n",
        "    fptr = open(os.environ['OUTPUT_PATH'], 'w')\n",
        "\n",
        "    first_multiple_input = input().rstrip().split()\n",
        "\n",
        "    n = int(first_multiple_input[0])\n",
        "\n",
        "    m = int(first_multiple_input[1])\n",
        "\n",
        "    arr = list(map(int, input().rstrip().split()))\n",
        "\n",
        "    brr = list(map(int, input().rstrip().split()))\n",
        "\n",
        "    total = getTotalX(arr, brr)\n",
        "\n",
        "    fptr.write(str(total) + '\\n')\n",
        "\n",
        "    fptr.close()\n"
      ]
    }
  ]
}