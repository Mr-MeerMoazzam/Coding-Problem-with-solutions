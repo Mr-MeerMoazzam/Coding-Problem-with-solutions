{
  "nbformat": 4,
  "nbformat_minor": 0,
  "metadata": {
    "colab": {
      "provenance": []
    },
    "kernelspec": {
      "name": "python3",
      "display_name": "Python 3"
    },
    "language_info": {
      "name": "python"
    }
  },
  "cells": [
    {
      "cell_type": "markdown",
      "source": [
        "#Problem Description\n",
        "\n",
        "\n",
        "```\n",
        "Alice and Bob each created one problem for HackerRank. A reviewer rates the two challenges, awarding points on a scale from 1 to 100 for three categories: problem clarity, originality, and difficulty.\n",
        "\n",
        "The rating for Alice's challenge is the triplet a = (a[0], a[1], a[2]), and the rating for Bob's challenge is the triplet b = (b[0], b[1], b[2]).\n",
        "\n",
        "The task is to find their comparison points by comparing a[0] with b[0], a[1] with b[1], and a[2] with b[2].\n",
        "\n",
        "If a[i] > b[i], then Alice is awarded 1 point.\n",
        "If a[i] < b[i], then Bob is awarded 1 point.\n",
        "If a[i] = b[i], then neither person receives a point.\n",
        "Comparison points is the total points a person earned.\n",
        "\n",
        "Given a and b, determine their respective comparison points.\n",
        "\n",
        "Example\n",
        "\n",
        "a = [1, 2, 3]\n",
        "b = [3, 2, 1]\n",
        "For elements *0*, Bob is awarded a point because a[0] .\n",
        "For the equal elements a[1] and b[1], no points are earned.\n",
        "Finally, for elements 2, a[2] > b[2] so Alice receives a point.\n",
        "The return array is [1, 1] with Alice's score first and Bob's second.\n",
        "\n",
        "Function Description\n",
        "\n",
        "Complete the function compareTriplets in the editor below.\n",
        "\n",
        "compareTriplets has the following parameter(s):\n",
        "\n",
        "int a[3]: Alice's challenge rating\n",
        "int b[3]: Bob's challenge rating\n",
        "Return\n",
        "\n",
        "int[2]: Alice's score is in the first position, and Bob's score is in the second.\n",
        "Input Format\n",
        "\n",
        "The first line contains 3 space-separated integers, a[0], a[1], and a[2], the respective values in triplet a.\n",
        "The second line contains 3 space-separated integers, b[0], b[1], and b[2], the respective values in triplet b.\n",
        "\n",
        "Constraints\n",
        "\n",
        "1 ≤ a[i] ≤ 100\n",
        "1 ≤ b[i] ≤ 100\n",
        "Sample Input 0\n",
        "\n",
        "5 6 7\n",
        "3 6 10\n",
        "Sample Output 0\n",
        "\n",
        "1 1\n",
        "```\n",
        "\n"
      ],
      "metadata": {
        "id": "14HrnDWsPrDU"
      }
    },
    {
      "cell_type": "code",
      "execution_count": 7,
      "metadata": {
        "colab": {
          "base_uri": "https://localhost:8080/"
        },
        "id": "mtRJCwQnGtNr",
        "outputId": "fa7ef403-4aaa-4ca6-94a0-e6956d18b2a1"
      },
      "outputs": [
        {
          "output_type": "execute_result",
          "data": {
            "text/plain": [
              "['ALICE', None, 'BOB']"
            ]
          },
          "metadata": {},
          "execution_count": 7
        }
      ],
      "source": [
        "#!/bin/python3\n",
        "\n",
        "import math\n",
        "import os\n",
        "import random\n",
        "import re\n",
        "import sys\n",
        "\n",
        "#\n",
        "# Complete the 'compareTriplets' function below.\n",
        "#\n",
        "# The function is expected to return an INTEGER_ARRAY.\n",
        "# The function accepts following parameters:\n",
        "#  1. INTEGER_ARRAY a\n",
        "#  2. INTEGER_ARRAY b\n",
        "#\n",
        "\n",
        "def compareTriplets(a, b):\n",
        "    # Write your code here\n",
        "    def compare(a):\n",
        "        i,j=a\n",
        "        if i<j:\n",
        "            return 'BOB'\n",
        "        elif i>j:\n",
        "            return 'ALICE'\n",
        "    bobs=list(map(compare,zip(a,b))).count('BOB')\n",
        "    alices=list(map(compare,zip(a,b))).count('ALICE')\n",
        "    return [alices,bobs]    \n",
        "\n",
        "if __name__ == '__main__':\n",
        "    fptr = open(os.environ['OUTPUT_PATH'], 'w')\n",
        "\n",
        "    a = list(map(int, input().rstrip().split()))\n",
        "\n",
        "    b = list(map(int, input().rstrip().split()))\n",
        "\n",
        "    result = compareTriplets(a, b)\n",
        "\n",
        "    fptr.write(' '.join(map(str, result)))\n",
        "    fptr.write('\\n')\n",
        "\n",
        "    fptr.close()\n"
      ]
    },
    {
      "cell_type": "code",
      "source": [],
      "metadata": {
        "id": "dFAWFDwNHlId"
      },
      "execution_count": null,
      "outputs": []
    }
  ]
}