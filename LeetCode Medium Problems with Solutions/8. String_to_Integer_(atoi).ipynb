{
  "nbformat": 4,
  "nbformat_minor": 0,
  "metadata": {
    "colab": {
      "provenance": []
    },
    "kernelspec": {
      "name": "python3",
      "display_name": "Python 3"
    },
    "language_info": {
      "name": "python"
    }
  },
  "cells": [
    {
      "cell_type": "markdown",
      "source": [
        "#Problem Statement\n",
        "Implement the myAtoi(string s) function, which converts a string to a 32-bit signed integer (similar to C/C++'s atoi function).<br>\n",
        "\n",
        "The algorithm for myAtoi(string s) is as follows:<br>\n",
        "\n",
        "Read in and ignore any leading whitespace.<br>\n",
        "Check if the next character (if not already at the end of the string) is '-' or '+'. Read this character in if it is either.This determines if the final result is negative or positive respectively. Assume the result is positive if neither is present.<br>\n",
        "Read in next the characters until the next non-digit character or the end of the input is reached. The rest of the string is ignored.\n",
        "Convert these digits into an integer (i.e. \"123\" -> 123, \"0032\" -> 32). If no digits were read, then the integer is 0. Change the sign as necessary (from step 2).<br>\n",
        "If the integer is out of the 32-bit signed integer range [-231, 231 - 1], then clamp the integer so that it remains in the range. Specifically, integers less than -231 should be clamped to -231, and integers greater than 231 - 1 should be clamped to 231 - 1.<br>\n",
        "Return the integer as the final result.<br>\n",
        "Note:<br>\n",
        "\n",
        "Only the space character ' ' is considered a whitespace character.\n",
        "Do not ignore any characters other than the leading whitespace or the rest of the string after the digits.<br>\n",
        " \n",
        "\n",
        "Example 1:<br>\n",
        "\n",
        "Input: s = \"42\"<br>\n",
        "Output: 42<br>\n",
        "Explanation: The underlined characters are what is read in, the caret is the current reader position.<br>\n",
        "Step 1: \"42\" (no characters read because there is no leading whitespace)<br>\n",
        "      \n",
        "Step 2: \"42\" (no characters read because there is neither a '-' nor '+')<br>\n",
        "         \n",
        "Step 3: \"42\" (\"42\" is read in)<br>\n",
        "          \n",
        "The parsed integer is 42.<br>\n",
        "Since 42 is in the range [-231, 231 - 1], the final result is 42.<br>\n"
      ],
      "metadata": {
        "id": "vekeam-HSY2Q"
      }
    },
    {
      "cell_type": "code",
      "execution_count": 17,
      "metadata": {
        "id": "HQwtApQkI9Y7"
      },
      "outputs": [],
      "source": [
        "class Solution(object):\n",
        "    def myAtoi(self, s):\n",
        "        \"\"\"\n",
        "        :type s: str\n",
        "        :rtype: int\n",
        "        \"\"\"\n",
        "        MIN, MAX = -2 ** 31, 2 ** 31 - 1\n",
        "        n, flag, sign = 0, True, 1\n",
        "        s=s.strip()\n",
        "        # flag denotes we have not seen any number, sign is -1 or 1\n",
        "        for c in s:\n",
        "            if flag:\n",
        "                if c == '-': \n",
        "                    sign = -1  # final answer is a negative number\n",
        "                elif c.isdigit(): \n",
        "                    n = int(c)  # the first digit of number\n",
        "                elif c != '+': \n",
        "                    return 0  # the first char is not a digit and not in (' ', '+', '-'), so s is invalid\n",
        "                flag = False  # the first char is a digit or '+' or '-', valid number starts\n",
        "            else:\n",
        "                if c.isdigit():\n",
        "                    n = n * 10 + int(c)\n",
        "                    if sign * n > MAX: \n",
        "                        return MAX\n",
        "                    elif sign * n < MIN: \n",
        "                        return MIN\n",
        "                else: \n",
        "                    break   # end of valid number\n",
        "        return sign * n  # sign is 1 or -1 \n",
        "        "
      ]
    }
  ]
}